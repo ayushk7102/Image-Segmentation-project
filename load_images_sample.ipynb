{
 "cells": [
  {
   "cell_type": "code",
   "execution_count": 1,
   "source": [
    "from sklearn.cluster import KMeans\r\n",
    "import numpy as np\r\n",
    "import os\r\n",
    "import cv2 as cv\r\n",
    "import matplotlib.pyplot as plt\r\n"
   ],
   "outputs": [],
   "metadata": {}
  },
  {
   "cell_type": "code",
   "execution_count": 2,
   "source": [
    "data_dir = \"C:/Users/neeti/Projects/Manas/AUVSI/generated_data/letters\"\r\n",
    "categories = [\"C\",\"D\",\"G\",\"M\",\"N\",\"O\",\"P\",\"Q\",\"R\",\"S\",\"T\"]\r\n",
    "dataset = []"
   ],
   "outputs": [],
   "metadata": {}
  },
  {
   "cell_type": "code",
   "execution_count": 3,
   "source": [
    "#load images\r\n",
    "def load():\r\n",
    "    for category in categories:\r\n",
    "        letter_path = os.path.join(data_dir , category)\r\n",
    "#         letter_path=letter_path[n]##make path to each folder\r\n",
    "        for image in range(4,7):\r\n",
    "            img = cv.imread(os.path.join(letter_path , os.listdir(letter_path)[image*100]))\r\n",
    "            dataset.append(img)\r\n",
    "        \r\n",
    "        \r\n",
    "    return dataset"
   ],
   "outputs": [],
   "metadata": {}
  },
  {
   "cell_type": "code",
   "execution_count": null,
   "source": [],
   "outputs": [],
   "metadata": {}
  }
 ],
 "metadata": {
  "kernelspec": {
   "display_name": "Python 3",
   "language": "python",
   "name": "python3"
  },
  "language_info": {
   "codemirror_mode": {
    "name": "ipython",
    "version": 3
   },
   "file_extension": ".py",
   "mimetype": "text/x-python",
   "name": "python",
   "nbconvert_exporter": "python",
   "pygments_lexer": "ipython3",
   "version": "3.8.8"
  }
 },
 "nbformat": 4,
 "nbformat_minor": 4
}
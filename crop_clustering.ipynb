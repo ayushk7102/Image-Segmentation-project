{
 "cells": [
  {
   "cell_type": "code",
   "execution_count": 1,
   "source": [
    "import cv2 as cv\r\n",
    "import numpy as np\r\n",
    "from sklearn.mixture import GaussianMixture\r\n",
    "from sklearn.decomposition import PCA\r\n",
    "import import_ipynb\r\n",
    "import matplotlib.pyplot as plt"
   ],
   "outputs": [],
   "metadata": {}
  },
  {
   "cell_type": "code",
   "execution_count": 2,
   "source": [
    "def cluster_crop(image,k):\r\n",
    "    \r\n",
    "    image = cv.cvtColor(image, cv.COLOR_BGR2RGB)\r\n",
    "\r\n",
    "    #adding spacial data so that clustering can be more effective. It gives the x-y coordinates along with rgb values\r\n",
    "    indices=(np.dstack(np.indices(image.shape[:2])))\r\n",
    "    xycolors=np.concatenate((image,indices),axis=-1)\r\n",
    "    feature_image2=np.reshape(xycolors,[-1,5])\r\n",
    "    \r\n",
    "    #gaussianmixturemodels\r\n",
    "    gm=GaussianMixture(n_components=k)\r\n",
    "    labels=gm.fit_predict(feature_image2)\r\n",
    "    centers=gm.means_\r\n",
    "    centers = np.uint8(centers[:,:3])\r\n",
    "    labels = labels.flatten()\r\n",
    "\r\n",
    "    \r\n",
    "    ##create segmented image\r\n",
    "    segmented_image = centers[labels.flatten()]\r\n",
    "    segmented_image = segmented_image.reshape(image.shape)\r\n",
    " \r\n",
    "    return np.uint8(segmented_image),labels"
   ],
   "outputs": [],
   "metadata": {}
  }
 ],
 "metadata": {
  "kernelspec": {
   "display_name": "Python 3",
   "language": "python",
   "name": "python3"
  },
  "language_info": {
   "codemirror_mode": {
    "name": "ipython",
    "version": 3
   },
   "file_extension": ".py",
   "mimetype": "text/x-python",
   "name": "python",
   "nbconvert_exporter": "python",
   "pygments_lexer": "ipython3",
   "version": "3.8.8"
  }
 },
 "nbformat": 4,
 "nbformat_minor": 4
}
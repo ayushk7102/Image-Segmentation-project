{
 "cells": [
  {
   "cell_type": "code",
   "execution_count": 1,
   "source": [
    "import cv2 as cv\r\n",
    "import numpy as np\r\n",
    "import matplotlib.pyplot as plt\r\n",
    "import tensorflow as tf\r\n",
    "from tqdm import tqdm\r\n",
    "import time\r\n",
    "from tensorflow.keras.preprocessing.image import ImageDataGenerator\r\n",
    "import os\r\n",
    "import import_ipynb\r\n",
    "from Shape_mask_returner import pipeline_list\r\n",
    "from load_images_sample_shape import load"
   ],
   "outputs": [
    {
     "output_type": "stream",
     "name": "stdout",
     "text": [
      "importing Jupyter notebook from Shape_mask_returner.ipynb\n",
      "importing Jupyter notebook from load_images_sample_shape.ipynb\n",
      "importing Jupyter notebook from cluster_images_kmeans.ipynb\n",
      "importing Jupyter notebook from crop_clustering.ipynb\n"
     ]
    }
   ],
   "metadata": {}
  },
  {
   "cell_type": "code",
   "execution_count": 2,
   "source": [
    "data,labels=load()\r\n",
    "X=pipeline_list(data)\r\n",
    "data_dir = \"C:/Users/Maximus/MANAS/AUVSI_Perception/ManasNotebooks/generated_data/shapes\"\r\n",
    "\r\n",
    "# some categories were not there in dataset so i had created my own in grayscale and that is why loaded it seperately\r\n",
    "categories=['hexagon','heptagon','octagon','quartercircle']\r\n",
    "for num,category in enumerate(categories):\r\n",
    "        letter_path = os.path.join(data_dir , category)\r\n",
    "        ##make path to each folder\r\n",
    "        for path in tqdm(os.listdir(letter_path)[:500]):\r\n",
    "            img = cv.cvtColor(cv.imread(os.path.join(letter_path ,path)),cv.COLOR_RGB2GRAY)\r\n",
    "            X.append(img)\r\n",
    "            labels.append(category)"
   ],
   "outputs": [
    {
     "output_type": "stream",
     "name": "stderr",
     "text": [
      "100%|██████████| 500/500 [00:00<00:00, 1792.75it/s]\n",
      "100%|██████████| 500/500 [00:00<00:00, 1704.31it/s]\n",
      "100%|██████████| 500/500 [00:00<00:00, 1666.06it/s]\n",
      "100%|██████████| 500/500 [00:00<00:00, 1686.41it/s]\n",
      "100%|██████████| 500/500 [00:00<00:00, 1729.40it/s]\n",
      "100%|██████████| 500/500 [00:00<00:00, 1786.91it/s]\n",
      "100%|██████████| 500/500 [00:00<00:00, 1750.90it/s]\n",
      "100%|██████████| 500/500 [00:00<00:00, 1776.72it/s]\n",
      "100%|██████████| 500/500 [00:00<00:00, 1786.69it/s]\n",
      "9it [00:02,  3.36it/s]\n",
      "segmentation: 100%|██████████| 4500/4500 [21:29<00:00,  3.49it/s]\n",
      "100%|██████████| 500/500 [00:00<00:00, 4557.59it/s]\n",
      "100%|██████████| 500/500 [00:00<00:00, 4476.23it/s]\n",
      "100%|██████████| 500/500 [00:00<00:00, 4640.84it/s]\n",
      "100%|██████████| 500/500 [00:01<00:00, 347.19it/s]\n"
     ]
    }
   ],
   "metadata": {}
  },
  {
   "cell_type": "code",
   "execution_count": 3,
   "source": [
    "plt.imshow(X[-50],cmap='gray')"
   ],
   "outputs": [
    {
     "output_type": "execute_result",
     "data": {
      "text/plain": [
       "<matplotlib.image.AxesImage at 0x1dc8d0b4d60>"
      ]
     },
     "metadata": {},
     "execution_count": 3
    },
    {
     "output_type": "display_data",
     "data": {
      "image/png": "[encoded data removed]",
      "text/plain": [
       "<Figure size 432x288 with 1 Axes>"
      ]
     },
     "metadata": {
      "needs_background": "light"
     }
    }
   ],
   "metadata": {}
  },
  {
   "cell_type": "code",
   "execution_count": 4,
   "source": [
    "print(np.array(X).shape)"
   ],
   "outputs": [
    {
     "output_type": "stream",
     "name": "stdout",
     "text": [
      "(6500, 100, 100)\n"
     ]
    }
   ],
   "metadata": {}
  },
  {
   "cell_type": "code",
   "execution_count": 5,
   "source": [
    "from sklearn.model_selection import train_test_split\r\n",
    "import tensorflow as tf\r\n",
    "\r\n",
    "from tensorflow.keras.utils import to_categorical\r\n",
    "from tensorflow.keras.applications import Xception\r\n",
    "from tensorflow.keras.models import Sequential\r\n",
    "from tensorflow.keras.optimizers import Adam\r\n",
    "from tensorflow.keras.utils import to_categorical\r\n",
    "from tensorflow.keras.layers import Dense, Dropout, Flatten, GlobalAveragePooling2D, Activation,Conv2D, MaxPool2D, BatchNormalization, AveragePooling2D \r\n",
    "\r\n",
    "from tensorflow.keras.preprocessing.image import ImageDataGenerator\r\n",
    "from tensorflow.keras.applications.inception_v3 import InceptionV3\r\n",
    "from tensorflow.keras.applications.inception_v3 import preprocess_input"
   ],
   "outputs": [],
   "metadata": {}
  },
  {
   "cell_type": "code",
   "execution_count": 6,
   "source": [
    "import pandas as pd\r\n",
    "print(np.array(labels).shape)\r\n",
    "labels=pd.get_dummies(labels).to_numpy()\r\n",
    "print(labels.shape)"
   ],
   "outputs": [
    {
     "output_type": "stream",
     "name": "stdout",
     "text": [
      "(6500,)\n",
      "(6500, 13)\n"
     ]
    }
   ],
   "metadata": {}
  },
  {
   "cell_type": "code",
   "execution_count": 7,
   "source": [
    "X=np.array(X)\r\n",
    "data=np.repeat(X[..., np.newaxis], 3, -1)\r\n",
    "X_train, X_test, y_train, y_test = train_test_split(data,labels, test_size=0.1, random_state=42, shuffle=True)\r\n",
    "print(X_train.shape,X_test.shape,y_train.shape,y_test.shape)"
   ],
   "outputs": [
    {
     "output_type": "stream",
     "name": "stdout",
     "text": [
      "(5850, 100, 100, 3) (650, 100, 100, 3) (5850, 13) (650, 13)\n"
     ]
    }
   ],
   "metadata": {}
  },
  {
   "cell_type": "code",
   "execution_count": 11,
   "source": [
    "IMAGE_SIZE=100\r\n",
    "input_shape = (IMAGE_SIZE, IMAGE_SIZE, 3)\r\n",
    "model = Sequential()\r\n",
    "model.add(Xception(include_top = False, pooling = MaxPool2D,input_shape= input_shape, weights = 'imagenet'))\r\n",
    "model.add(Flatten())\r\n",
    "model.add(BatchNormalization())\r\n",
    "model.add(Dropout(0.3))\r\n",
    "model.add(Dense(1024, activation = 'relu'))\r\n",
    "model.add(BatchNormalization())\r\n",
    "model.add(Dense(512, activation = 'relu'))\r\n",
    "model.add(Dropout(0.3))\r\n",
    "model.add(Dense(128, activation = 'relu'))\r\n",
    "model.add(Dropout(0.5))\r\n",
    "model.add(Dense(13, activation = 'softmax'))"
   ],
   "outputs": [],
   "metadata": {}
  },
  {
   "cell_type": "code",
   "execution_count": 12,
   "source": [
    "model.summary()\r\n",
    "optimizer = Adam(lr=0.002, beta_1=0.9, beta_2=0.999, epsilon=0.1, decay = 0.0)\r\n",
    "model.compile(loss='categorical_crossentropy', optimizer = optimizer, metrics=['accuracy'])"
   ],
   "outputs": [
    {
     "output_type": "stream",
     "name": "stdout",
     "text": [
      "Model: \"sequential_1\"\n",
      "_________________________________________________________________\n",
      "Layer (type)                 Output Shape              Param #   \n",
      "=================================================================\n",
      "xception (Functional)        (None, 3, 3, 2048)        20861480  \n",
      "_________________________________________________________________\n",
      "flatten_1 (Flatten)          (None, 18432)             0         \n",
      "_________________________________________________________________\n",
      "batch_normalization_10 (Batc (None, 18432)             73728     \n",
      "_________________________________________________________________\n",
      "dropout_3 (Dropout)          (None, 18432)             0         \n",
      "_________________________________________________________________\n",
      "dense_4 (Dense)              (None, 1024)              18875392  \n",
      "_________________________________________________________________\n",
      "batch_normalization_11 (Batc (None, 1024)              4096      \n",
      "_________________________________________________________________\n",
      "dense_5 (Dense)              (None, 512)               524800    \n",
      "_________________________________________________________________\n",
      "dropout_4 (Dropout)          (None, 512)               0         \n",
      "_________________________________________________________________\n",
      "dense_6 (Dense)              (None, 128)               65664     \n",
      "_________________________________________________________________\n",
      "dropout_5 (Dropout)          (None, 128)               0         \n",
      "_________________________________________________________________\n",
      "dense_7 (Dense)              (None, 13)                1677      \n",
      "=================================================================\n",
      "Total params: 40,406,837\n",
      "Trainable params: 40,313,397\n",
      "Non-trainable params: 93,440\n",
      "_________________________________________________________________\n"
     ]
    }
   ],
   "metadata": {}
  },
  {
   "cell_type": "code",
   "execution_count": 13,
   "source": [
    "EPOCHS = 50\r\n",
    "BATCH_SIZE = 64\r\n",
    "annealer = tf.keras.callbacks.ReduceLROnPlateau(monitor='val_accuracy', factor=0.5,\r\n",
    "                                                patience=10, verbose=1, min_lr=1e-5)\r\n",
    "checkpoint = tf.keras.callbacks.ModelCheckpoint('full_train_xception_shape.h5', verbose=1,\r\n",
    "                                                save_best_only=True)\r\n",
    "\r\n",
    "datagen = tf.keras.preprocessing.image.ImageDataGenerator(rotation_range=360,\r\n",
    "                        width_shift_range=0.1, height_shift_range=0.1, \r\n",
    "                        zoom_range=0.2, horizontal_flip=True, vertical_flip=True) w\r\n",
    "\r\n",
    "datagen.fit(X_train)\r\n",
    "\r\n",
    "history = model.fit(datagen.flow(X_train, y_train, batch_size=BATCH_SIZE),\r\n",
    "               steps_per_epoch=X_train.shape[0] // BATCH_SIZE, epochs=EPOCHS,verbose=1,\r\n",
    "               callbacks=[annealer, checkpoint],\r\n",
    "               validation_data=(X_test, y_test))"
   ],
   "outputs": [
    {
     "output_type": "stream",
     "name": "stdout",
     "text": [
      "Epoch 1/50\n",
      "91/91 [==============================] - 26s 223ms/step - loss: 3.0032 - accuracy: 0.1552 - val_loss: 1.8696 - val_accuracy: 0.4262\n",
      "\n",
      "Epoch 00001: val_loss improved from inf to 1.86957, saving model to full_train_xception_shape.h5\n",
      "Epoch 2/50\n",
      "91/91 [==============================] - 18s 197ms/step - loss: 1.8136 - accuracy: 0.3797 - val_loss: 1.2435 - val_accuracy: 0.6292\n",
      "\n",
      "Epoch 00002: val_loss improved from 1.86957 to 1.24345, saving model to full_train_xception_shape.h5\n",
      "Epoch 3/50\n",
      "91/91 [==============================] - 18s 197ms/step - loss: 1.2901 - accuracy: 0.5475 - val_loss: 0.6948 - val_accuracy: 0.7400\n",
      "\n",
      "Epoch 00003: val_loss improved from 1.24345 to 0.69477, saving model to full_train_xception_shape.h5\n",
      "Epoch 4/50\n",
      "91/91 [==============================] - 18s 198ms/step - loss: 0.8926 - accuracy: 0.6887 - val_loss: 0.4434 - val_accuracy: 0.8338\n",
      "\n",
      "Epoch 00004: val_loss improved from 0.69477 to 0.44343, saving model to full_train_xception_shape.h5\n",
      "Epoch 5/50\n",
      "91/91 [==============================] - 18s 199ms/step - loss: 0.6691 - accuracy: 0.7813 - val_loss: 0.3681 - val_accuracy: 0.8538\n",
      "\n",
      "Epoch 00005: val_loss improved from 0.44343 to 0.36806, saving model to full_train_xception_shape.h5\n",
      "Epoch 6/50\n",
      "91/91 [==============================] - 18s 200ms/step - loss: 0.5420 - accuracy: 0.8173 - val_loss: 0.3312 - val_accuracy: 0.8677\n",
      "\n",
      "Epoch 00006: val_loss improved from 0.36806 to 0.33121, saving model to full_train_xception_shape.h5\n",
      "Epoch 7/50\n",
      "91/91 [==============================] - 18s 201ms/step - loss: 0.4888 - accuracy: 0.8370 - val_loss: 0.3062 - val_accuracy: 0.9031\n",
      "\n",
      "Epoch 00007: val_loss improved from 0.33121 to 0.30618, saving model to full_train_xception_shape.h5\n",
      "Epoch 8/50\n",
      "91/91 [==============================] - 18s 201ms/step - loss: 0.4725 - accuracy: 0.8438 - val_loss: 0.3109 - val_accuracy: 0.8892\n",
      "\n",
      "Epoch 00008: val_loss did not improve from 0.30618\n",
      "Epoch 9/50\n",
      "91/91 [==============================] - 18s 202ms/step - loss: 0.4321 - accuracy: 0.8547 - val_loss: 0.2865 - val_accuracy: 0.9000\n",
      "\n",
      "Epoch 00009: val_loss improved from 0.30618 to 0.28648, saving model to full_train_xception_shape.h5\n",
      "Epoch 10/50\n",
      "91/91 [==============================] - 19s 202ms/step - loss: 0.4164 - accuracy: 0.8621 - val_loss: 0.2709 - val_accuracy: 0.9062\n",
      "\n",
      "Epoch 00010: val_loss improved from 0.28648 to 0.27089, saving model to full_train_xception_shape.h5\n",
      "Epoch 11/50\n",
      "91/91 [==============================] - 19s 203ms/step - loss: 0.3767 - accuracy: 0.8724 - val_loss: 0.2677 - val_accuracy: 0.9015\n",
      "\n",
      "Epoch 00011: val_loss improved from 0.27089 to 0.26767, saving model to full_train_xception_shape.h5\n",
      "Epoch 12/50\n",
      "91/91 [==============================] - 19s 202ms/step - loss: 0.3631 - accuracy: 0.8786 - val_loss: 0.2672 - val_accuracy: 0.9077\n",
      "\n",
      "Epoch 00012: val_loss improved from 0.26767 to 0.26724, saving model to full_train_xception_shape.h5\n",
      "Epoch 13/50\n",
      "91/91 [==============================] - 19s 202ms/step - loss: 0.3634 - accuracy: 0.8766 - val_loss: 0.2682 - val_accuracy: 0.9000\n",
      "\n",
      "Epoch 00013: val_loss did not improve from 0.26724\n",
      "Epoch 14/50\n",
      "91/91 [==============================] - 19s 204ms/step - loss: 0.3357 - accuracy: 0.8846 - val_loss: 0.2507 - val_accuracy: 0.9031\n",
      "\n",
      "Epoch 00014: val_loss improved from 0.26724 to 0.25068, saving model to full_train_xception_shape.h5\n",
      "Epoch 15/50\n",
      "91/91 [==============================] - 19s 203ms/step - loss: 0.3157 - accuracy: 0.8852 - val_loss: 0.2517 - val_accuracy: 0.9108\n",
      "\n",
      "Epoch 00015: val_loss did not improve from 0.25068\n",
      "Epoch 16/50\n",
      "91/91 [==============================] - 19s 203ms/step - loss: 0.3180 - accuracy: 0.8928 - val_loss: 0.2393 - val_accuracy: 0.9154\n",
      "\n",
      "Epoch 00016: val_loss improved from 0.25068 to 0.23929, saving model to full_train_xception_shape.h5\n",
      "Epoch 17/50\n",
      "91/91 [==============================] - 19s 203ms/step - loss: 0.3054 - accuracy: 0.8948 - val_loss: 0.2763 - val_accuracy: 0.9000\n",
      "\n",
      "Epoch 00017: val_loss did not improve from 0.23929\n",
      "Epoch 18/50\n",
      "91/91 [==============================] - 19s 203ms/step - loss: 0.3183 - accuracy: 0.8953 - val_loss: 0.2499 - val_accuracy: 0.9031\n",
      "\n",
      "Epoch 00018: val_loss did not improve from 0.23929\n",
      "Epoch 19/50\n",
      "91/91 [==============================] - 19s 204ms/step - loss: 0.2923 - accuracy: 0.9037 - val_loss: 0.2685 - val_accuracy: 0.9046\n",
      "\n",
      "Epoch 00019: val_loss did not improve from 0.23929\n",
      "Epoch 20/50\n",
      "91/91 [==============================] - 19s 209ms/step - loss: 0.3196 - accuracy: 0.8924 - val_loss: 0.2588 - val_accuracy: 0.9123\n",
      "\n",
      "Epoch 00020: val_loss did not improve from 0.23929\n",
      "Epoch 21/50\n",
      "91/91 [==============================] - 19s 209ms/step - loss: 0.2642 - accuracy: 0.9148 - val_loss: 0.2788 - val_accuracy: 0.9092\n",
      "\n",
      "Epoch 00021: val_loss did not improve from 0.23929\n",
      "Epoch 22/50\n",
      "91/91 [==============================] - 19s 209ms/step - loss: 0.2780 - accuracy: 0.9032 - val_loss: 0.2469 - val_accuracy: 0.9185\n",
      "\n",
      "Epoch 00022: val_loss did not improve from 0.23929\n",
      "Epoch 23/50\n",
      "91/91 [==============================] - 19s 208ms/step - loss: 0.2757 - accuracy: 0.9026 - val_loss: 0.2510 - val_accuracy: 0.9092\n",
      "\n",
      "Epoch 00023: val_loss did not improve from 0.23929\n",
      "Epoch 24/50\n",
      "91/91 [==============================] - 19s 207ms/step - loss: 0.3028 - accuracy: 0.8952 - val_loss: 0.2500 - val_accuracy: 0.9123\n",
      "\n",
      "Epoch 00024: val_loss did not improve from 0.23929\n",
      "Epoch 25/50\n",
      "91/91 [==============================] - 19s 211ms/step - loss: 0.2522 - accuracy: 0.9142 - val_loss: 0.2473 - val_accuracy: 0.9185\n",
      "\n",
      "Epoch 00025: val_loss did not improve from 0.23929\n",
      "Epoch 26/50\n",
      "91/91 [==============================] - 19s 208ms/step - loss: 0.2576 - accuracy: 0.9090 - val_loss: 0.2530 - val_accuracy: 0.9138\n",
      "\n",
      "Epoch 00026: val_loss did not improve from 0.23929\n",
      "Epoch 27/50\n",
      "91/91 [==============================] - 19s 206ms/step - loss: 0.2539 - accuracy: 0.9136 - val_loss: 0.2491 - val_accuracy: 0.9169\n",
      "\n",
      "Epoch 00027: val_loss did not improve from 0.23929\n",
      "Epoch 28/50\n",
      "91/91 [==============================] - 19s 206ms/step - loss: 0.2593 - accuracy: 0.9076 - val_loss: 0.2576 - val_accuracy: 0.9215\n",
      "\n",
      "Epoch 00028: val_loss did not improve from 0.23929\n",
      "Epoch 29/50\n",
      "91/91 [==============================] - 19s 206ms/step - loss: 0.2616 - accuracy: 0.9093 - val_loss: 0.2630 - val_accuracy: 0.9169\n",
      "\n",
      "Epoch 00029: val_loss did not improve from 0.23929\n",
      "Epoch 30/50\n",
      "91/91 [==============================] - 19s 206ms/step - loss: 0.2300 - accuracy: 0.9173 - val_loss: 0.2450 - val_accuracy: 0.9215\n",
      "\n",
      "Epoch 00030: val_loss did not improve from 0.23929\n",
      "Epoch 31/50\n",
      "91/91 [==============================] - 19s 206ms/step - loss: 0.2484 - accuracy: 0.9129 - val_loss: 0.2717 - val_accuracy: 0.9169\n",
      "\n",
      "Epoch 00031: val_loss did not improve from 0.23929\n",
      "Epoch 32/50\n",
      "91/91 [==============================] - 19s 205ms/step - loss: 0.2336 - accuracy: 0.9200 - val_loss: 0.2547 - val_accuracy: 0.9169\n",
      "\n",
      "Epoch 00032: val_loss did not improve from 0.23929\n",
      "Epoch 33/50\n",
      "91/91 [==============================] - 19s 205ms/step - loss: 0.2493 - accuracy: 0.9191 - val_loss: 0.2832 - val_accuracy: 0.9169\n",
      "\n",
      "Epoch 00033: val_loss did not improve from 0.23929\n",
      "Epoch 34/50\n",
      "91/91 [==============================] - 19s 205ms/step - loss: 0.2041 - accuracy: 0.9294 - val_loss: 0.2596 - val_accuracy: 0.9154\n",
      "\n",
      "Epoch 00034: val_loss did not improve from 0.23929\n",
      "Epoch 35/50\n",
      "91/91 [==============================] - 19s 207ms/step - loss: 0.2380 - accuracy: 0.9205 - val_loss: 0.2735 - val_accuracy: 0.9108\n",
      "\n",
      "Epoch 00035: val_loss did not improve from 0.23929\n",
      "Epoch 36/50\n",
      "91/91 [==============================] - 19s 205ms/step - loss: 0.2022 - accuracy: 0.9303 - val_loss: 0.2457 - val_accuracy: 0.9185\n",
      "\n",
      "Epoch 00036: val_loss did not improve from 0.23929\n",
      "Epoch 37/50\n",
      "91/91 [==============================] - 19s 207ms/step - loss: 0.2183 - accuracy: 0.9264 - val_loss: 0.2332 - val_accuracy: 0.9215\n",
      "\n",
      "Epoch 00037: val_loss improved from 0.23929 to 0.23324, saving model to full_train_xception_shape.h5\n",
      "Epoch 38/50\n",
      "91/91 [==============================] - 19s 206ms/step - loss: 0.2247 - accuracy: 0.9239 - val_loss: 0.2787 - val_accuracy: 0.9200\n",
      "\n",
      "Epoch 00038: ReduceLROnPlateau reducing learning rate to 0.0010000000474974513.\n",
      "\n",
      "Epoch 00038: val_loss did not improve from 0.23324\n",
      "Epoch 39/50\n",
      "91/91 [==============================] - 19s 208ms/step - loss: 0.2338 - accuracy: 0.9191 - val_loss: 0.2725 - val_accuracy: 0.9231\n",
      "\n",
      "Epoch 00039: val_loss did not improve from 0.23324\n",
      "Epoch 40/50\n",
      "91/91 [==============================] - 19s 209ms/step - loss: 0.1941 - accuracy: 0.9338 - val_loss: 0.2679 - val_accuracy: 0.9231\n",
      "\n",
      "Epoch 00040: val_loss did not improve from 0.23324\n",
      "Epoch 41/50\n",
      "91/91 [==============================] - 19s 208ms/step - loss: 0.2000 - accuracy: 0.9293 - val_loss: 0.2565 - val_accuracy: 0.9185\n",
      "\n",
      "Epoch 00041: val_loss did not improve from 0.23324\n",
      "Epoch 42/50\n",
      "91/91 [==============================] - 19s 206ms/step - loss: 0.1954 - accuracy: 0.9313 - val_loss: 0.2700 - val_accuracy: 0.9215\n",
      "\n",
      "Epoch 00042: val_loss did not improve from 0.23324\n",
      "Epoch 43/50\n",
      "91/91 [==============================] - 19s 208ms/step - loss: 0.1845 - accuracy: 0.9323 - val_loss: 0.2657 - val_accuracy: 0.9185\n",
      "\n",
      "Epoch 00043: val_loss did not improve from 0.23324\n",
      "Epoch 44/50\n",
      "91/91 [==============================] - 19s 206ms/step - loss: 0.1832 - accuracy: 0.9358 - val_loss: 0.2724 - val_accuracy: 0.9231\n",
      "\n",
      "Epoch 00044: val_loss did not improve from 0.23324\n",
      "Epoch 45/50\n",
      "91/91 [==============================] - 19s 209ms/step - loss: 0.1990 - accuracy: 0.9328 - val_loss: 0.2618 - val_accuracy: 0.9200\n",
      "\n",
      "Epoch 00045: val_loss did not improve from 0.23324\n",
      "Epoch 46/50\n",
      "91/91 [==============================] - 19s 207ms/step - loss: 0.1900 - accuracy: 0.9343 - val_loss: 0.2808 - val_accuracy: 0.9215\n",
      "\n",
      "Epoch 00046: val_loss did not improve from 0.23324\n",
      "Epoch 47/50\n",
      "91/91 [==============================] - 19s 206ms/step - loss: 0.1777 - accuracy: 0.9375 - val_loss: 0.2659 - val_accuracy: 0.9200\n",
      "\n",
      "Epoch 00047: val_loss did not improve from 0.23324\n",
      "Epoch 48/50\n",
      "91/91 [==============================] - 19s 206ms/step - loss: 0.1922 - accuracy: 0.9341 - val_loss: 0.2849 - val_accuracy: 0.9200\n",
      "\n",
      "Epoch 00048: val_loss did not improve from 0.23324\n",
      "Epoch 49/50\n",
      "91/91 [==============================] - 19s 207ms/step - loss: 0.1633 - accuracy: 0.9404 - val_loss: 0.2811 - val_accuracy: 0.9231\n",
      "\n",
      "Epoch 00049: ReduceLROnPlateau reducing learning rate to 0.0005000000237487257.\n",
      "\n",
      "Epoch 00049: val_loss did not improve from 0.23324\n",
      "Epoch 50/50\n",
      "91/91 [==============================] - 19s 207ms/step - loss: 0.1732 - accuracy: 0.9418 - val_loss: 0.2808 - val_accuracy: 0.9246\n",
      "\n",
      "Epoch 00050: val_loss did not improve from 0.23324\n"
     ]
    }
   ],
   "metadata": {}
  }
 ],
 "metadata": {
  "orig_nbformat": 4,
  "language_info": {
   "name": "python",
   "version": "3.8.8",
   "mimetype": "text/x-python",
   "codemirror_mode": {
    "name": "ipython",
    "version": 3
   },
   "pygments_lexer": "ipython3",
   "nbconvert_exporter": "python",
   "file_extension": ".py"
  },
  "kernelspec": {
   "name": "python3",
   "display_name": "Python 3.8.8 64-bit"
  },
  "interpreter": {
   "hash": "e51bd9cba95cf88367d876f45c75ac65176d5caa72fa33af8e3b464e93c89de3"
  }
 },
 "nbformat": 4,
 "nbformat_minor": 2
}
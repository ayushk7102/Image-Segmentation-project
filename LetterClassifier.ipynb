{
 "cells": [
  {
   "cell_type": "code",
   "execution_count": 17,
   "source": [
    "import numpy as np \r\n",
    "import pandas as pd \r\n",
    "import os, time\r\n",
    "import matplotlib.pyplot as plt\r\n",
    "from sklearn.model_selection import train_test_split\r\n",
    "import tensorflow as tf\r\n",
    "\r\n",
    "from tensorflow.keras.applications import Xception\r\n",
    "from tensorflow.keras.models import Sequential\r\n",
    "from tensorflow.keras.optimizers import Adam\r\n",
    "from tensorflow.keras.layers import Dense, Dropout, Flatten MaxPool2D, BatchNormalization, AveragePooling2D \r\n",
    "\r\n",
    "import os\r\n",
    "from tqdm import tqdm"
   ],
   "outputs": [],
   "metadata": {}
  },
  {
   "cell_type": "code",
   "execution_count": 68,
   "source": [
    "train_data_kaggle=np.load('./kaggledatasetlettermask.npy').reshape(-1,10000)\r\n",
    "train_labels_kaggle=np.load('./kaggledatasetlettermasklabels.npy')"
   ],
   "outputs": [],
   "metadata": {}
  },
  {
   "cell_type": "code",
   "execution_count": 78,
   "source": [
    "SIZE = 500\r\n",
    "IMAGE_SIZE = 100"
   ],
   "outputs": [],
   "metadata": {}
  },
  {
   "cell_type": "code",
   "execution_count": 70,
   "source": [
    "train_data_kaggle = train_data_kaggle.reshape(-1,100,100)\r\n",
    "print(train_data_kaggle.shape)"
   ],
   "outputs": [
    {
     "output_type": "stream",
     "name": "stdout",
     "text": [
      "(13000, 100, 100)\n"
     ]
    }
   ],
   "metadata": {}
  },
  {
   "cell_type": "code",
   "execution_count": 71,
   "source": [
    "import os\r\n",
    "path='./LetterDataset'\r\n",
    "for i in tqdm(range(36)):\r\n",
    "    temppath=os.path.join(path,str(i)+'/data_binary.npy')\r\n",
    "    label=np.zeros((SIZE,36))\r\n",
    "    label[:,i]=1\r\n",
    "    train_data=np.load(temppath)\r\n",
    "    train_data = train_data[0:SIZE]\r\n",
    "    train_data_kaggle = np.vstack((train_data_kaggle,train_data))\r\n",
    "    train_labels_kaggle = np.vstack((train_labels_kaggle,label))"
   ],
   "outputs": [
    {
     "output_type": "stream",
     "name": "stderr",
     "text": [
      "100%|██████████| 36/36 [00:18<00:00,  1.90it/s]\n"
     ]
    }
   ],
   "metadata": {}
  },
  {
   "cell_type": "code",
   "execution_count": 72,
   "source": [
    "X = np.repeat(train_data_kaggle[..., np.newaxis], 3, -1)\r\n",
    "print(train_labels_kaggle.shape)\r\n",
    "X.shape"
   ],
   "outputs": [
    {
     "output_type": "stream",
     "name": "stdout",
     "text": [
      "(31000, 36)\n"
     ]
    },
    {
     "output_type": "execute_result",
     "data": {
      "text/plain": [
       "(31000, 100, 100, 3)"
      ]
     },
     "metadata": {},
     "execution_count": 72
    }
   ],
   "metadata": {}
  },
  {
   "cell_type": "code",
   "execution_count": 75,
   "source": [
    "plt.imshow(X[1000])\r\n",
    "print(train_labels_kaggle[1000])"
   ],
   "outputs": [
    {
     "output_type": "stream",
     "name": "stdout",
     "text": [
      "[0. 0. 1. 0. 0. 0. 0. 0. 0. 0. 0. 0. 0. 0. 0. 0. 0. 0. 0. 0. 0. 0. 0. 0.\n",
      " 0. 0. 0. 0. 0. 0. 0. 0. 0. 0. 0. 0.]\n"
     ]
    },
    {
     "output_type": "display_data",
     "data": {
      "image/png": "[encoded data removed]",
      "text/plain": [
       "<Figure size 432x288 with 1 Axes>"
      ]
     },
     "metadata": {
      "needs_background": "light"
     }
    }
   ],
   "metadata": {}
  },
  {
   "cell_type": "code",
   "execution_count": 77,
   "source": [
    "X_train, X_test, y_train, y_test = train_test_split(X,train_labels_kaggle, test_size=0.1, random_state=42, shuffle=True)\r\n",
    "print(X_train.shape,X_test.shape,y_train.shape,y_test.shape)"
   ],
   "outputs": [
    {
     "output_type": "stream",
     "name": "stdout",
     "text": [
      "(27900, 100, 100, 3) (3100, 100, 100, 3) (27900, 36) (3100, 36)\n"
     ]
    }
   ],
   "metadata": {}
  },
  {
   "cell_type": "code",
   "execution_count": 83,
   "source": [
    "input_shape = (IMAGE_SIZE, IMAGE_SIZE, 3)\r\n",
    "model = Sequential()\r\n",
    "model.add(Xception(include_top = False, pooling = MaxPool2D,input_shape= input_shape, weights = 'imagenet'))\r\n",
    "model.add(Flatten())\r\n",
    "model.add(BatchNormalization())\r\n",
    "model.add(Dropout(0.3))\r\n",
    "model.add(Dense(1024, activation = 'relu'))\r\n",
    "model.add(BatchNormalization())\r\n",
    "model.add(Dense(512, activation = 'relu'))\r\n",
    "model.add(Dropout(0.3))\r\n",
    "model.add(Dense(128, activation = 'relu'))\r\n",
    "model.add(Dropout(0.5))\r\n",
    "model.add(Dense(36, activation = 'softmax'))"
   ],
   "outputs": [],
   "metadata": {}
  },
  {
   "cell_type": "code",
   "execution_count": 84,
   "source": [
    "model.summary()\r\n",
    "optimizer = Adam(lr=0.002, beta_1=0.9, beta_2=0.999, epsilon=0.1, decay = 0.0)\r\n",
    "model.compile(loss='categorical_crossentropy', optimizer = optimizer, metrics=['accuracy'])"
   ],
   "outputs": [
    {
     "output_type": "stream",
     "name": "stdout",
     "text": [
      "Model: \"sequential_1\"\n",
      "_________________________________________________________________\n",
      "Layer (type)                 Output Shape              Param #   \n",
      "=================================================================\n",
      "xception (Functional)        (None, 3, 3, 2048)        20861480  \n",
      "_________________________________________________________________\n",
      "flatten_1 (Flatten)          (None, 18432)             0         \n",
      "_________________________________________________________________\n",
      "batch_normalization_10 (Batc (None, 18432)             73728     \n",
      "_________________________________________________________________\n",
      "dropout_3 (Dropout)          (None, 18432)             0         \n",
      "_________________________________________________________________\n",
      "dense_4 (Dense)              (None, 1024)              18875392  \n",
      "_________________________________________________________________\n",
      "batch_normalization_11 (Batc (None, 1024)              4096      \n",
      "_________________________________________________________________\n",
      "dense_5 (Dense)              (None, 512)               524800    \n",
      "_________________________________________________________________\n",
      "dropout_4 (Dropout)          (None, 512)               0         \n",
      "_________________________________________________________________\n",
      "dense_6 (Dense)              (None, 128)               65664     \n",
      "_________________________________________________________________\n",
      "dropout_5 (Dropout)          (None, 128)               0         \n",
      "_________________________________________________________________\n",
      "dense_7 (Dense)              (None, 36)                4644      \n",
      "=================================================================\n",
      "Total params: 40,409,804\n",
      "Trainable params: 40,316,364\n",
      "Non-trainable params: 93,440\n",
      "_________________________________________________________________\n"
     ]
    }
   ],
   "metadata": {}
  },
  {
   "cell_type": "code",
   "execution_count": 85,
   "source": [
    "EPOCHS = 50\r\n",
    "BATCH_SIZE = 64\r\n",
    "annealer = tf.keras.callbacks.ReduceLROnPlateau(monitor='val_accuracy', factor=0.5,\r\n",
    "                                                patience=10, verbose=1, min_lr=1e-5)\r\n",
    "checkpoint = tf.keras.callbacks.ModelCheckpoint('full_train_xception.h5', verbose=1,\r\n",
    "                                                save_best_only=True)\r\n",
    "\r\n",
    "datagen = tf.keras.preprocessing.image.ImageDataGenerator(rotation_range=360,\r\n",
    "                        width_shift_range=0.1, height_shift_range=0.1, \r\n",
    "                        zoom_range=0.2, horizontal_flip=True, vertical_flip=True) \r\n",
    "\r\n",
    "datagen.fit(X_train)\r\n",
    "\r\n",
    "history = model.fit(datagen.flow(X_train, y_train, batch_size=BATCH_SIZE),\r\n",
    "               steps_per_epoch=X_train.shape[0] // BATCH_SIZE, epochs=EPOCHS,verbose=1,\r\n",
    "               callbacks=[annealer, checkpoint],\r\n",
    "               validation_data=(X_test, y_test))"
   ],
   "outputs": [
    {
     "output_type": "stream",
     "name": "stdout",
     "text": [
      "Epoch 1/50\n",
      "435/435 [==============================] - 118s 249ms/step - loss: 3.9279 - accuracy: 0.0485 - val_loss: 2.7784 - val_accuracy: 0.2735\n",
      "\n",
      "Epoch 00001: val_loss improved from inf to 2.77843, saving model to full_train_xception.h5\n",
      "Epoch 2/50\n",
      "435/435 [==============================] - 91s 209ms/step - loss: 2.8178 - accuracy: 0.2444 - val_loss: 1.9735 - val_accuracy: 0.4700\n",
      "\n",
      "Epoch 00002: val_loss improved from 2.77843 to 1.97350, saving model to full_train_xception.h5\n",
      "Epoch 3/50\n",
      "435/435 [==============================] - 93s 215ms/step - loss: 2.0328 - accuracy: 0.4534 - val_loss: 1.4196 - val_accuracy: 0.6123\n",
      "\n",
      "Epoch 00003: val_loss improved from 1.97350 to 1.41964, saving model to full_train_xception.h5\n",
      "Epoch 4/50\n",
      "435/435 [==============================] - 91s 209ms/step - loss: 1.6462 - accuracy: 0.5548 - val_loss: 1.2729 - val_accuracy: 0.6455\n",
      "\n",
      "Epoch 00004: val_loss improved from 1.41964 to 1.27291, saving model to full_train_xception.h5\n",
      "Epoch 5/50\n",
      "435/435 [==============================] - 106s 243ms/step - loss: 1.4497 - accuracy: 0.6018 - val_loss: 1.1433 - val_accuracy: 0.6661\n",
      "\n",
      "Epoch 00005: val_loss improved from 1.27291 to 1.14328, saving model to full_train_xception.h5\n",
      "Epoch 6/50\n",
      "435/435 [==============================] - 90s 206ms/step - loss: 1.3249 - accuracy: 0.6323 - val_loss: 1.0833 - val_accuracy: 0.6865\n",
      "\n",
      "Epoch 00006: val_loss improved from 1.14328 to 1.08331, saving model to full_train_xception.h5\n",
      "Epoch 7/50\n",
      "435/435 [==============================] - 128s 295ms/step - loss: 1.2256 - accuracy: 0.6586 - val_loss: 1.0052 - val_accuracy: 0.7087\n",
      "\n",
      "Epoch 00007: val_loss improved from 1.08331 to 1.00517, saving model to full_train_xception.h5\n",
      "Epoch 8/50\n",
      "435/435 [==============================] - 400s 918ms/step - loss: 1.1401 - accuracy: 0.6758 - val_loss: 0.9678 - val_accuracy: 0.7097\n",
      "\n",
      "Epoch 00008: val_loss improved from 1.00517 to 0.96785, saving model to full_train_xception.h5\n",
      "Epoch 9/50\n",
      "435/435 [==============================] - 89s 204ms/step - loss: 1.0879 - accuracy: 0.6880 - val_loss: 0.9208 - val_accuracy: 0.7252\n",
      "\n",
      "Epoch 00009: val_loss improved from 0.96785 to 0.92077, saving model to full_train_xception.h5\n",
      "Epoch 10/50\n",
      "435/435 [==============================] - 89s 205ms/step - loss: 1.0255 - accuracy: 0.7008 - val_loss: 0.9021 - val_accuracy: 0.7335\n",
      "\n",
      "Epoch 00010: val_loss improved from 0.92077 to 0.90212, saving model to full_train_xception.h5\n",
      "Epoch 11/50\n",
      "435/435 [==============================] - 88s 203ms/step - loss: 0.9799 - accuracy: 0.7126 - val_loss: 0.8159 - val_accuracy: 0.7523\n",
      "\n",
      "Epoch 00011: val_loss improved from 0.90212 to 0.81591, saving model to full_train_xception.h5\n",
      "Epoch 12/50\n",
      "435/435 [==============================] - 88s 203ms/step - loss: 0.9431 - accuracy: 0.7246 - val_loss: 0.8139 - val_accuracy: 0.7581\n",
      "\n",
      "Epoch 00012: val_loss improved from 0.81591 to 0.81388, saving model to full_train_xception.h5\n",
      "Epoch 13/50\n",
      "435/435 [==============================] - 88s 203ms/step - loss: 0.9102 - accuracy: 0.7319 - val_loss: 0.7781 - val_accuracy: 0.7697\n",
      "\n",
      "Epoch 00013: val_loss improved from 0.81388 to 0.77808, saving model to full_train_xception.h5\n",
      "Epoch 14/50\n",
      "435/435 [==============================] - 89s 204ms/step - loss: 0.8554 - accuracy: 0.7476 - val_loss: 0.7167 - val_accuracy: 0.7829\n",
      "\n",
      "Epoch 00014: val_loss improved from 0.77808 to 0.71670, saving model to full_train_xception.h5\n",
      "Epoch 15/50\n",
      "435/435 [==============================] - 88s 203ms/step - loss: 0.8312 - accuracy: 0.7531 - val_loss: 0.7085 - val_accuracy: 0.7826\n",
      "\n",
      "Epoch 00015: val_loss improved from 0.71670 to 0.70854, saving model to full_train_xception.h5\n",
      "Epoch 16/50\n",
      "435/435 [==============================] - 88s 202ms/step - loss: 0.7854 - accuracy: 0.7675 - val_loss: 0.6671 - val_accuracy: 0.8000\n",
      "\n",
      "Epoch 00016: val_loss improved from 0.70854 to 0.66713, saving model to full_train_xception.h5\n",
      "Epoch 17/50\n",
      "435/435 [==============================] - 88s 203ms/step - loss: 0.7632 - accuracy: 0.7738 - val_loss: 0.6372 - val_accuracy: 0.8071\n",
      "\n",
      "Epoch 00017: val_loss improved from 0.66713 to 0.63724, saving model to full_train_xception.h5\n",
      "Epoch 18/50\n",
      "435/435 [==============================] - 88s 203ms/step - loss: 0.7165 - accuracy: 0.7868 - val_loss: 0.6159 - val_accuracy: 0.8142\n",
      "\n",
      "Epoch 00018: val_loss improved from 0.63724 to 0.61592, saving model to full_train_xception.h5\n",
      "Epoch 19/50\n",
      "435/435 [==============================] - 88s 203ms/step - loss: 0.6833 - accuracy: 0.7981 - val_loss: 0.5930 - val_accuracy: 0.8223\n",
      "\n",
      "Epoch 00019: val_loss improved from 0.61592 to 0.59302, saving model to full_train_xception.h5\n",
      "Epoch 20/50\n",
      "435/435 [==============================] - 89s 203ms/step - loss: 0.6800 - accuracy: 0.7993 - val_loss: 0.5446 - val_accuracy: 0.8384\n",
      "\n",
      "Epoch 00020: val_loss improved from 0.59302 to 0.54456, saving model to full_train_xception.h5\n",
      "Epoch 21/50\n",
      "435/435 [==============================] - 88s 203ms/step - loss: 0.6283 - accuracy: 0.8136 - val_loss: 0.5511 - val_accuracy: 0.8394\n",
      "\n",
      "Epoch 00021: val_loss did not improve from 0.54456\n",
      "Epoch 22/50\n",
      "435/435 [==============================] - 88s 202ms/step - loss: 0.6133 - accuracy: 0.8237 - val_loss: 0.5354 - val_accuracy: 0.8474\n",
      "\n",
      "Epoch 00022: val_loss improved from 0.54456 to 0.53536, saving model to full_train_xception.h5\n",
      "Epoch 23/50\n",
      "435/435 [==============================] - 88s 202ms/step - loss: 0.5918 - accuracy: 0.8282 - val_loss: 0.5454 - val_accuracy: 0.8400\n",
      "\n",
      "Epoch 00023: val_loss did not improve from 0.53536\n",
      "Epoch 24/50\n",
      "435/435 [==============================] - 88s 202ms/step - loss: 0.5750 - accuracy: 0.8331 - val_loss: 0.4886 - val_accuracy: 0.8548\n",
      "\n",
      "Epoch 00024: val_loss improved from 0.53536 to 0.48863, saving model to full_train_xception.h5\n",
      "Epoch 25/50\n",
      "435/435 [==============================] - 88s 202ms/step - loss: 0.5586 - accuracy: 0.8368 - val_loss: 0.5020 - val_accuracy: 0.8523\n",
      "\n",
      "Epoch 00025: val_loss did not improve from 0.48863\n",
      "Epoch 26/50\n",
      "435/435 [==============================] - 88s 203ms/step - loss: 0.5409 - accuracy: 0.8414 - val_loss: 0.4926 - val_accuracy: 0.8571\n",
      "\n",
      "Epoch 00026: val_loss did not improve from 0.48863\n",
      "Epoch 27/50\n",
      "435/435 [==============================] - 88s 203ms/step - loss: 0.5266 - accuracy: 0.8495 - val_loss: 0.4963 - val_accuracy: 0.8548\n",
      "\n",
      "Epoch 00027: val_loss did not improve from 0.48863\n",
      "Epoch 28/50\n",
      "435/435 [==============================] - 89s 203ms/step - loss: 0.5163 - accuracy: 0.8520 - val_loss: 0.5230 - val_accuracy: 0.8529\n",
      "\n",
      "Epoch 00028: val_loss did not improve from 0.48863\n",
      "Epoch 29/50\n",
      "435/435 [==============================] - 88s 203ms/step - loss: 0.4950 - accuracy: 0.8560 - val_loss: 0.5004 - val_accuracy: 0.8581\n",
      "\n",
      "Epoch 00029: val_loss did not improve from 0.48863\n",
      "Epoch 30/50\n",
      "435/435 [==============================] - 88s 203ms/step - loss: 0.4877 - accuracy: 0.8611 - val_loss: 0.4797 - val_accuracy: 0.8652\n",
      "\n",
      "Epoch 00030: val_loss improved from 0.48863 to 0.47972, saving model to full_train_xception.h5\n",
      "Epoch 31/50\n",
      "435/435 [==============================] - 88s 203ms/step - loss: 0.4901 - accuracy: 0.8594 - val_loss: 0.4655 - val_accuracy: 0.8703\n",
      "\n",
      "Epoch 00031: val_loss improved from 0.47972 to 0.46547, saving model to full_train_xception.h5\n",
      "Epoch 32/50\n",
      "435/435 [==============================] - 89s 204ms/step - loss: 0.4886 - accuracy: 0.8592 - val_loss: 0.4797 - val_accuracy: 0.8629\n",
      "\n",
      "Epoch 00032: val_loss did not improve from 0.46547\n",
      "Epoch 33/50\n",
      "435/435 [==============================] - 88s 203ms/step - loss: 0.4802 - accuracy: 0.8660 - val_loss: 0.4831 - val_accuracy: 0.8648\n",
      "\n",
      "Epoch 00033: val_loss did not improve from 0.46547\n",
      "Epoch 34/50\n",
      "435/435 [==============================] - 88s 203ms/step - loss: 0.4814 - accuracy: 0.8633 - val_loss: 0.4799 - val_accuracy: 0.8668\n",
      "\n",
      "Epoch 00034: val_loss did not improve from 0.46547\n",
      "Epoch 35/50\n",
      "435/435 [==============================] - 89s 203ms/step - loss: 0.4511 - accuracy: 0.8707 - val_loss: 0.4606 - val_accuracy: 0.8697\n",
      "\n",
      "Epoch 00035: val_loss improved from 0.46547 to 0.46058, saving model to full_train_xception.h5\n",
      "Epoch 36/50\n",
      "435/435 [==============================] - 88s 203ms/step - loss: 0.4298 - accuracy: 0.8780 - val_loss: 0.4598 - val_accuracy: 0.8694\n",
      "\n",
      "Epoch 00036: val_loss improved from 0.46058 to 0.45982, saving model to full_train_xception.h5\n",
      "Epoch 37/50\n",
      "435/435 [==============================] - 88s 202ms/step - loss: 0.4357 - accuracy: 0.8751 - val_loss: 0.4382 - val_accuracy: 0.8755\n",
      "\n",
      "Epoch 00037: val_loss improved from 0.45982 to 0.43825, saving model to full_train_xception.h5\n",
      "Epoch 38/50\n",
      "435/435 [==============================] - 88s 202ms/step - loss: 0.4343 - accuracy: 0.8750 - val_loss: 0.4352 - val_accuracy: 0.8755\n",
      "\n",
      "Epoch 00038: val_loss improved from 0.43825 to 0.43522, saving model to full_train_xception.h5\n",
      "Epoch 39/50\n",
      "435/435 [==============================] - 88s 202ms/step - loss: 0.4439 - accuracy: 0.8745 - val_loss: 0.4400 - val_accuracy: 0.8726\n",
      "\n",
      "Epoch 00039: val_loss did not improve from 0.43522\n",
      "Epoch 40/50\n",
      "435/435 [==============================] - 88s 202ms/step - loss: 0.4336 - accuracy: 0.8765 - val_loss: 0.4217 - val_accuracy: 0.8794\n",
      "\n",
      "Epoch 00040: val_loss improved from 0.43522 to 0.42172, saving model to full_train_xception.h5\n",
      "Epoch 41/50\n",
      "435/435 [==============================] - 88s 202ms/step - loss: 0.4313 - accuracy: 0.8790 - val_loss: 0.4192 - val_accuracy: 0.8806\n",
      "\n",
      "Epoch 00041: val_loss improved from 0.42172 to 0.41924, saving model to full_train_xception.h5\n",
      "Epoch 42/50\n",
      "435/435 [==============================] - 88s 202ms/step - loss: 0.4131 - accuracy: 0.8806 - val_loss: 0.4332 - val_accuracy: 0.8810\n",
      "\n",
      "Epoch 00042: val_loss did not improve from 0.41924\n",
      "Epoch 43/50\n",
      "435/435 [==============================] - 88s 202ms/step - loss: 0.4044 - accuracy: 0.8851 - val_loss: 0.4364 - val_accuracy: 0.8774\n",
      "\n",
      "Epoch 00043: val_loss did not improve from 0.41924\n",
      "Epoch 44/50\n",
      "435/435 [==============================] - 88s 202ms/step - loss: 0.4160 - accuracy: 0.8793 - val_loss: 0.4150 - val_accuracy: 0.8813\n",
      "\n",
      "Epoch 00044: val_loss improved from 0.41924 to 0.41501, saving model to full_train_xception.h5\n",
      "Epoch 45/50\n",
      "435/435 [==============================] - 88s 202ms/step - loss: 0.3925 - accuracy: 0.8878 - val_loss: 0.4155 - val_accuracy: 0.8781\n",
      "\n",
      "Epoch 00045: val_loss did not improve from 0.41501\n",
      "Epoch 46/50\n",
      "435/435 [==============================] - 89s 203ms/step - loss: 0.4066 - accuracy: 0.8827 - val_loss: 0.4169 - val_accuracy: 0.8810\n",
      "\n",
      "Epoch 00046: val_loss did not improve from 0.41501\n",
      "Epoch 47/50\n",
      "435/435 [==============================] - 88s 202ms/step - loss: 0.4076 - accuracy: 0.8830 - val_loss: 0.4117 - val_accuracy: 0.8832\n",
      "\n",
      "Epoch 00047: val_loss improved from 0.41501 to 0.41168, saving model to full_train_xception.h5\n",
      "Epoch 48/50\n",
      "435/435 [==============================] - 88s 202ms/step - loss: 0.4006 - accuracy: 0.8861 - val_loss: 0.4108 - val_accuracy: 0.8813\n",
      "\n",
      "Epoch 00048: val_loss improved from 0.41168 to 0.41081, saving model to full_train_xception.h5\n",
      "Epoch 49/50\n",
      "435/435 [==============================] - 88s 202ms/step - loss: 0.4012 - accuracy: 0.8822 - val_loss: 0.4248 - val_accuracy: 0.8823\n",
      "\n",
      "Epoch 00049: val_loss did not improve from 0.41081\n",
      "Epoch 50/50\n",
      "435/435 [==============================] - 88s 202ms/step - loss: 0.3981 - accuracy: 0.8869 - val_loss: 0.4222 - val_accuracy: 0.8797\n",
      "\n",
      "Epoch 00050: val_loss did not improve from 0.41081\n"
     ]
    }
   ],
   "metadata": {}
  },
  {
   "cell_type": "code",
   "execution_count": null,
   "source": [],
   "outputs": [],
   "metadata": {}
  }
 ],
 "metadata": {
  "kernelspec": {
   "name": "python3",
   "display_name": "Python 3.8.8 64-bit"
  },
  "language_info": {
   "codemirror_mode": {
    "name": "ipython",
    "version": 3
   },
   "file_extension": ".py",
   "mimetype": "text/x-python",
   "name": "python",
   "nbconvert_exporter": "python",
   "pygments_lexer": "ipython3",
   "version": "3.8.8"
  },
  "interpreter": {
   "hash": "e51bd9cba95cf88367d876f45c75ac65176d5caa72fa33af8e3b464e93c89de3"
  }
 },
 "nbformat": 4,
 "nbformat_minor": 5
}
{
 "cells": [
  {
   "cell_type": "code",
   "execution_count": 21,
   "source": [
    "import cv2 as cv\r\n",
    "import numpy as np\r\n",
    "from sklearn.decomposition import PCA"
   ],
   "outputs": [],
   "metadata": {}
  },
  {
   "cell_type": "code",
   "execution_count": 22,
   "source": [
    "def cluster(image,k):\r\n",
    "    image = cv.cvtColor(image, cv.COLOR_BGR2HLS)\r\n",
    "    pixel_values = image.reshape((-1, 3)) \r\n",
    "    pixel_values = np.float32(pixel_values)\r\n",
    "    # k means ran on hls colour space\r\n",
    "    criteria = (cv.TERM_CRITERIA_EPS + cv.TERM_CRITERIA_MAX_ITER, 10000, 0.02)\r\n",
    "    compact, labels, (centers) = cv.kmeans(pixel_values, k, None, criteria, 20, cv.KMEANS_PP_CENTERS)\r\n",
    "\r\n",
    "    centers = np.uint8(centers)\r\n",
    "    centers=cv.cvtColor(np.array([centers]), cv.COLOR_HLS2RGB)\r\n",
    "    centers=centers[0]\r\n",
    "    labels = labels.flatten()\r\n",
    "    \r\n",
    "    ##create segmented image\r\n",
    "    segmented_image = centers[labels.flatten()]\r\n",
    "    segmented_image = segmented_image.reshape(image.shape)\r\n",
    "    \r\n",
    "    return segmented_image,labels,centers"
   ],
   "outputs": [],
   "metadata": {}
  }
 ],
 "metadata": {
  "kernelspec": {
   "name": "python3",
   "display_name": "Python 3.8.8 64-bit ('base': conda)"
  },
  "language_info": {
   "codemirror_mode": {
    "name": "ipython",
    "version": 3
   },
   "file_extension": ".py",
   "mimetype": "text/x-python",
   "name": "python",
   "nbconvert_exporter": "python",
   "pygments_lexer": "ipython3",
   "version": "3.8.8"
  },
  "interpreter": {
   "hash": "8709c866e3b84bf4dc940172f5f1825c5bb1dd5b5cd52ccd3cc75971aac5b2af"
  }
 },
 "nbformat": 4,
 "nbformat_minor": 4
}